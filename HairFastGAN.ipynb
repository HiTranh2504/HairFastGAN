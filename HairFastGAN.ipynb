{
 "cells": [
  {
   "cell_type": "code",
   "execution_count": 1,
   "metadata": {
    "colab": {
     "base_uri": "https://localhost:8080/"
    },
    "executionInfo": {
     "elapsed": 766,
     "status": "ok",
     "timestamp": 1718369607228,
     "user": {
      "displayName": "Chí Trung Đường",
      "userId": "01601182340973516267"
     },
     "user_tz": -420
    },
    "id": "rDk2RFPq0YP5",
    "outputId": "d6aa9ab9-0c63-45cf-8988-0c3161c06a36"
   },
   "outputs": [
    {
     "name": "stdout",
     "output_type": "stream",
     "text": [
      "d:\\PYTHON\\MiAI\\HairFastGAN\\HairFastGAN\n"
     ]
    },
    {
     "name": "stderr",
     "output_type": "stream",
     "text": [
      "fatal: destination path 'HairFastGAN' already exists and is not an empty directory.\n",
      "c:\\Users\\trung\\AppData\\Local\\Programs\\Python\\Python310\\lib\\site-packages\\IPython\\core\\magics\\osm.py:417: UserWarning: This is now an optional IPython functionality, setting dhist requires you to install the `pickleshare` library.\n",
      "  self.shell.db['dhist'] = compress_dhist(dhist)[-100:]\n"
     ]
    }
   ],
   "source": [
    "#clone HairFastGAN github\n",
    "!git clone https://github.com/AIRI-Institute/HairFastGAN.git\n",
    "%cd HairFastGAN"
   ]
  },
  {
   "cell_type": "code",
   "execution_count": 2,
   "metadata": {
    "colab": {
     "background_save": true,
     "base_uri": "https://localhost:8080/"
    },
    "id": "WYszV6H32BEE"
   },
   "outputs": [
    {
     "name": "stderr",
     "output_type": "stream",
     "text": [
      "'wget' is not recognized as an internal or external command,\n",
      "operable program or batch file.\n"
     ]
    },
    {
     "name": "stderr",
     "output_type": "stream",
     "text": [
      "Sudo is disabled on this machine. To enable it, go to the \u001b]8;;ms-settings:developers\u001b\\Developer Settings page\u001b]8;;\u001b\\ in the Settings app\n",
      "Sudo is disabled on this machine. To enable it, go to the \u001b]8;;ms-settings:developers\u001b\\Developer Settings page\u001b]8;;\u001b\\ in the Settings app\n"
     ]
    }
   ],
   "source": [
    "#Install ninja - small build system to run C++, C\n",
    "# Install Ninja - small build system https://github.com/ninja-build/ninja\n",
    "!wget https://github.com/ninja-build/ninja/releases/download/v1.8.2/ninja-linux.zip\n",
    "!sudo unzip ninja-linux.zip -d /usr/local/bin/\n",
    "!sudo update-alternatives --install /usr/bin/ninja ninja /usr/local/bin/ninja 1 --force"
   ]
  },
  {
   "cell_type": "code",
   "execution_count": null,
   "metadata": {
    "id": "xs_Km1YC24so"
   },
   "outputs": [],
   "source": [
    "# Install lib\n",
    "!pip install pyngrok streamlit pillow==10.0.0 face_alignment dill==0.2.7.1 addict fpie git+https://github.com/openai/CLIP.git -q\n"
   ]
  },
  {
   "cell_type": "code",
   "execution_count": null,
   "metadata": {
    "id": "lkJUK22j3DlA"
   },
   "outputs": [],
   "source": [
    "\n",
    "!pip install torchvision\n"
   ]
  },
  {
   "cell_type": "code",
   "execution_count": null,
   "metadata": {
    "id": "oe5FjcPz3sLc"
   },
   "outputs": [],
   "source": [
    "# Download pretrain\n",
    "!git clone https://huggingface.co/AIRI-Institute/HairFastGAN\n",
    "!cd HairFastGAN && git lfs pull && cd ..\n",
    "!mv HairFastGAN/pretrained_models pretrained_models\n",
    "!mv HairFastGAN/input input\n",
    "!rm -rf HairFastGAN"
   ]
  },
  {
   "cell_type": "code",
   "execution_count": null,
   "metadata": {
    "id": "M9isOxi933Dg"
   },
   "outputs": [],
   "source": [
    "# Khai báo các thư viện\n",
    "from pathlib import Path #làm việc với đường dẩn\n",
    "from hair_swap import HairFast, get_parser # 2 thư viện cần thiết của HairFastGAN\n",
    "\n",
    "import matplotlib.pyplot as plt\n",
    "import matplotlib.gridspec as gridspec\n",
    "import torchvision.transforms as T\n",
    "import torch\n"
   ]
  },
  {
   "cell_type": "code",
   "execution_count": null,
   "metadata": {
    "id": "2jvtXYs_4KlH"
   },
   "outputs": [],
   "source": [
    "# Khởi tạo model để test\n",
    "model_args = get_parser()\n",
    "hair_fast = HairFast(model_args.parse_args([]))\n"
   ]
  },
  {
   "cell_type": "code",
   "execution_count": null,
   "metadata": {
    "id": "sEl7OPmF42In"
   },
   "outputs": [],
   "source": [
    "#Hàm hiển thị ảnh theo đúng thứ tự\n",
    "# Display function\n",
    "def display_images(images=None, **kwargs):\n",
    "    is_titles = images is None\n",
    "    images = images or kwargs\n",
    "\n",
    "    grid = gridspec.GridSpec(1, len(images))\n",
    "    fig = plt.figure(figsize=(20, 10))\n",
    "\n",
    "    for i, item in enumerate(images.items() if is_titles else images):\n",
    "        title, img = item if is_titles else (None, item)\n",
    "\n",
    "        img = T.functional.to_pil_image(img) if isinstance(img, torch.Tensor) else img\n",
    "        img = Image.open(img) if isinstance(img, str | Path) else img\n",
    "\n",
    "        ax = fig.add_subplot(1, len(images), i+1)\n",
    "        ax.imshow(img)\n",
    "        if title:\n",
    "            ax.set_title(title, fontsize=20)\n",
    "        ax.axis('off')\n",
    "\n",
    "    plt.show()"
   ]
  },
  {
   "cell_type": "code",
   "execution_count": null,
   "metadata": {
    "id": "s5CnKJG17vDw"
   },
   "outputs": [],
   "source": [
    "\n",
    "input_dir = Path(\"HairFastGAN\\Images\")\n",
    "face_path = input_dir / 'LISA.jpg'\n",
    "shape_path = input_dir / 'jisoo.png'\n",
    "color_path = input_dir / 'ROSE.png'\n",
    "\n",
    "final_image, face_align, shape_align, color_align = hair_fast.swap(face_path,shape_path,color_path, align=True)\n",
    "\n",
    "%matplotlib inline\n",
    "display_images(final_result=final_image, input_face=face_align, hair_shape=shape_align, hair_color=color_align)\n",
    "\n",
    "\n",
    "\n",
    "# input_dir = Path(\"/content/HairFastGAN/input\")\n",
    "# face_path = input_dir / 'Lanh.jpg'\n",
    "# shape_path = input_dir / '4.jpg'\n",
    "# color_path = input_dir / '3.jpg'\n",
    "\n",
    "# final_image, face_align, shape_align, color_align = hair_fast.swap(face_path,shape_path,color_path, align=True)\n",
    "\n",
    "# %matplotlib inline\n",
    "# display_images(final_result=final_image, input_face=face_align, hair_shape=shape_align, hair_color=color_align)\n"
   ]
  },
  {
   "cell_type": "code",
   "execution_count": null,
   "metadata": {
    "id": "B5P1Q_wlByRw"
   },
   "outputs": [],
   "source": [
    "%%writefile app.py\n",
    "import streamlit as st\n",
    "import pandas as pd\n",
    "from io import StringIO\n",
    "from pathlib import Path\n",
    "\n",
    "# Init model\n",
    "from pathlib import Path\n",
    "from hair_swap import HairFast,get_parser\n",
    "# import requests\n",
    "from io import BytesIO\n",
    "from PIL import Image\n",
    "# from functools import cache\n",
    "\n",
    "import matplotlib.pyplot as plt\n",
    "import matplotlib.gridspec as gridspec\n",
    "import torchvision.transforms as T\n",
    "import torch\n",
    "\n",
    "\n",
    "if \"model\" not in st.session_state.keys():\n",
    "    model_args = get_parser()\n",
    "    hair_fast = HairFast(model_args.parse_args([]))\n",
    "    st.session_state[\"model\"] = hair_fast\n",
    "\n",
    "hair_fast = st.session_state[\"model\"]\n",
    "\n",
    "st.set_page_config(\n",
    "        page_title=\"Virtual Hair\",\n",
    ")\n",
    "\n",
    "st.title(\"Salon ABC - Virtual Hair Style\")\n",
    "input_face = st.file_uploader(\"Chọn ảnh khuôn mặt bạn\")\n",
    "hair_shape = st.file_uploader(\"Chọn ảnh mẫu tóc\")\n",
    "hair_color = st.file_uploader(\"Chọn ảnh màu tóc\")\n",
    "\n",
    "\n",
    "if st.button(\"Change me!!!\", type=\"primary\"):\n",
    "    # st.image('result.png', caption='Sunrise by the mountains')\n",
    "\n",
    "    if input_face is not None and hair_shape is not None and hair_color is not None:\n",
    "        # To read file as bytes:\n",
    "        save_folder = '/content/HairFastGAN/upload'\n",
    "        face_path = Path(save_folder, input_face.name)\n",
    "        with open(face_path, mode='wb') as w:\n",
    "            w.write(input_face.getvalue())\n",
    "        shape_path = Path(save_folder, hair_shape.name)\n",
    "        with open(shape_path, mode='wb') as w:\n",
    "            w.write(hair_shape.getvalue())\n",
    "        color_path = Path(save_folder, hair_color.name)\n",
    "        with open(color_path, mode='wb') as w:\n",
    "            w.write(hair_color.getvalue())\n",
    "\n",
    "        final_image, face_align, shape_align, color_align =  hair_fast.swap(face_path, shape_path, color_path, align=True)\n",
    "        # Save output to file ressult.png\n",
    "        save_path = Path(save_folder, 'result.png')\n",
    "        final_image = T.functional.to_pil_image(final_image)\n",
    "        # final_image.save(save_path)\n",
    "        st.image(final_image, caption='Render result')\n",
    "        del final_image, face_align, shape_align, color_align\n",
    "\n",
    "\n"
   ]
  },
  {
   "cell_type": "code",
   "execution_count": null,
   "metadata": {
    "id": "Uv-UL2yJFA7G"
   },
   "outputs": [],
   "source": [
    "# Run app.py by streamlit\n",
    "!streamlit run app.py&>/dev/null&\n",
    "!pgrep streamlit"
   ]
  },
  {
   "cell_type": "code",
   "execution_count": null,
   "metadata": {
    "id": "uWu_1jn7FEeE"
   },
   "outputs": [],
   "source": [
    "# Expose by grok\n",
    "!ngrok authtoken '*******************************************'"
   ]
  },
  {
   "cell_type": "code",
   "execution_count": null,
   "metadata": {
    "id": "XfFD-4g-FGH-"
   },
   "outputs": [],
   "source": [
    "#streamlit expose ra cổng 8501 và ta dùng ngrok để expose nó ra\n",
    "!ngrok http 8501"
   ]
  }
 ],
 "metadata": {
  "accelerator": "GPU",
  "colab": {
   "authorship_tag": "ABX9TyMfMUwCoU4cTbcjbKtPlxKM",
   "gpuType": "T4",
   "name": "",
   "version": ""
  },
  "kernelspec": {
   "display_name": "Python 3",
   "name": "python3"
  },
  "language_info": {
   "codemirror_mode": {
    "name": "ipython",
    "version": 3
   },
   "file_extension": ".py",
   "mimetype": "text/x-python",
   "name": "python",
   "nbconvert_exporter": "python",
   "pygments_lexer": "ipython3",
   "version": "3.10.0"
  }
 },
 "nbformat": 4,
 "nbformat_minor": 0
}
